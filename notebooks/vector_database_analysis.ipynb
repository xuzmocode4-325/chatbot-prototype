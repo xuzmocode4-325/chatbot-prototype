{
 "cells": [
  {
   "cell_type": "code",
   "execution_count": null,
   "metadata": {},
   "outputs": [],
   "source": [
    "import numpy as np\n",
    "import pandas as pd\n",
    "import pinecone\n",
    "import os"
   ]
  },
  {
   "cell_type": "code",
   "execution_count": null,
   "metadata": {},
   "outputs": [],
   "source": [
    "pinecone_api_key = os.getenv('PINECONE_API_KEY')\n",
    "\n",
    "pinecone.init(\n",
    "    api_key=os.environ['PINECONE_API_KEY'],\n",
    "    environment='gcp-starter'\n",
    ")"
   ]
  },
  {
   "cell_type": "code",
   "execution_count": null,
   "metadata": {},
   "outputs": [],
   "source": [
    "# Initialize the Pinecone index\n",
    "index_name = \"kegg-medicus-database-index\"\n",
    "index = pinecone.Index(index_name)\n",
    "\n",
    "# Define a function to get all IDs from the Pinecone index\n",
    "def get_all_ids_from_index(index, num_dimensions):\n",
    "    num_vectors = index.describe_index_stats()[\"total_vector_count\"]\n",
    "    all_ids = set()\n",
    "    while len(all_ids) < num_vectors:\n",
    "        input_vector = np.random.rand(num_dimensions).tolist()\n",
    "        results = index.query(vector=input_vector, top_k=10000, include_values=False)\n",
    "        ids = {result[\"id\"] for result in results[\"matches\"]}\n",
    "        all_ids.update(ids)\n",
    "    return all_ids\n",
    "\n",
    "# Get all IDs from the Pinecone index\n",
    "all_ids = get_all_ids_from_index(index, num_dimensions=1536)\n",
    "\n",
    "# Fetch the vectors and metadata for all IDs\n",
    "fetched_data = index.fetch(list(all_ids))\n",
    "\n",
    "# Convert the fetched data to a DataFrame\n",
    "df = pd.DataFrame(fetched_data)"
   ]
  },
  {
   "cell_type": "code",
   "execution_count": null,
   "metadata": {},
   "outputs": [],
   "source": [
    "df.head()"
   ]
  }
 ],
 "metadata": {
  "kernelspec": {
   "display_name": "nlp_env",
   "language": "python",
   "name": "python3"
  },
  "language_info": {
   "codemirror_mode": {
    "name": "ipython",
    "version": 3
   },
   "file_extension": ".py",
   "mimetype": "text/x-python",
   "name": "python",
   "nbconvert_exporter": "python",
   "pygments_lexer": "ipython3",
   "version": "3.11.5"
  }
 },
 "nbformat": 4,
 "nbformat_minor": 2
}
